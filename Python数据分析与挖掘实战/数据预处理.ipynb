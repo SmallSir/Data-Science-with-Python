{
 "cells": [
  {
   "cell_type": "markdown",
   "metadata": {},
   "source": [
    "# 数据清洗"
   ]
  },
  {
   "cell_type": "markdown",
   "metadata": {},
   "source": [
    "### 缺失值处理"
   ]
  },
  {
   "cell_type": "markdown",
   "metadata": {},
   "source": [
    "```\n",
    "删除记录\n",
    "数据插补\n",
    "不处理\n",
    "```\n",
    "**插补方法**\n",
    "```\n",
    "均值中位数众数插补\n",
    "适用固定值\n",
    "最近临插补\n",
    "回归方法\n",
    "插值法\n",
    "```\n"
   ]
  },
  {
   "cell_type": "markdown",
   "metadata": {},
   "source": [
    "牛顿插值法和拉格朗日插值法"
   ]
  },
  {
   "cell_type": "markdown",
   "metadata": {},
   "source": [
    "### 异常值处理"
   ]
  },
  {
   "cell_type": "markdown",
   "metadata": {},
   "source": [
    "```\n",
    "删除含有异常值的记录\n",
    "视为缺失值\n",
    "平均值修正\n",
    "不处理\n",
    "```\n"
   ]
  },
  {
   "cell_type": "markdown",
   "metadata": {},
   "source": [
    "### 数据变换"
   ]
  },
  {
   "cell_type": "markdown",
   "metadata": {},
   "source": [
    "简单函数变换"
   ]
  },
  {
   "cell_type": "markdown",
   "metadata": {},
   "source": [
    "规范化\n",
    "```\n",
    "最小-最大规范化\n",
    "零-均值规范化\n",
    "小数定标规范化\n",
    "```"
   ]
  },
  {
   "cell_type": "markdown",
   "metadata": {},
   "source": [
    "## Python主要数据预处理函数"
   ]
  },
  {
   "cell_type": "markdown",
   "metadata": {},
   "source": [
    "```\n",
    "interpolate 一维高维数据插值 Scipy\n",
    "unique 去除数据中的重复数据 Pandas/numpy\n",
    "isnull 判断是否为空值 Pandas\n",
    "notnull 判断是否非空值 Pandas\n",
    "PCA 对指标变量矩阵进行主成分分析 Scikit-learn\n",
    "random 生成随机矩阵 Numpy\n",
    "```"
   ]
  },
  {
   "cell_type": "code",
   "execution_count": null,
   "metadata": {},
   "outputs": [],
   "source": []
  }
 ],
 "metadata": {
  "kernelspec": {
   "display_name": "Python 3",
   "language": "python",
   "name": "python3"
  },
  "language_info": {
   "codemirror_mode": {
    "name": "ipython",
    "version": 3
   },
   "file_extension": ".py",
   "mimetype": "text/x-python",
   "name": "python",
   "nbconvert_exporter": "python",
   "pygments_lexer": "ipython3",
   "version": "3.6.5"
  }
 },
 "nbformat": 4,
 "nbformat_minor": 2
}
