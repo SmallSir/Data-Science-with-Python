{
 "cells": [
  {
   "cell_type": "markdown",
   "metadata": {},
   "source": [
    "# 数据探索"
   ]
  },
  {
   "cell_type": "markdown",
   "metadata": {},
   "source": [
    "## 数据质量分析"
   ]
  },
  {
   "cell_type": "markdown",
   "metadata": {},
   "source": [
    "### 缺失值分析"
   ]
  },
  {
   "cell_type": "markdown",
   "metadata": {},
   "source": [
    "删除，插补，不处理"
   ]
  },
  {
   "cell_type": "markdown",
   "metadata": {},
   "source": [
    "### 异常值分析"
   ]
  },
  {
   "cell_type": "markdown",
   "metadata": {},
   "source": [
    "1.简单统计量分析，用最大值最小值"
   ]
  },
  {
   "cell_type": "markdown",
   "metadata": {},
   "source": [
    "2.3次个吗原则"
   ]
  },
  {
   "cell_type": "markdown",
   "metadata": {},
   "source": [
    "3.箱型图分析\n",
    "小于下四分位-1.5四分位数间距或者大于上四分位+1.5四分位数间距"
   ]
  },
  {
   "cell_type": "markdown",
   "metadata": {},
   "source": [
    "### 一致性分析"
   ]
  },
  {
   "cell_type": "markdown",
   "metadata": {},
   "source": [
    "## 数据特征分析"
   ]
  },
  {
   "cell_type": "markdown",
   "metadata": {},
   "source": [
    "### 分布分析"
   ]
  },
  {
   "cell_type": "markdown",
   "metadata": {},
   "source": [
    "对于定量变量而言，做频率分布分析\n",
    "```\n",
    "1.极差 \n",
    "2.决定组距与组数\n",
    "3.决定分点\n",
    "4.列出频率分布表\n",
    "5.绘制频率分布直方图\n",
    "```"
   ]
  },
  {
   "cell_type": "markdown",
   "metadata": {},
   "source": [
    "对于定型变量而言，饼图或者条形图来描述定型变量的分布"
   ]
  },
  {
   "cell_type": "markdown",
   "metadata": {},
   "source": [
    "### 对比分析"
   ]
  },
  {
   "cell_type": "markdown",
   "metadata": {},
   "source": [
    "绝对数比较"
   ]
  },
  {
   "cell_type": "markdown",
   "metadata": {},
   "source": [
    "相对数比较"
   ]
  },
  {
   "cell_type": "markdown",
   "metadata": {},
   "source": [
    "### 统计量分析"
   ]
  },
  {
   "cell_type": "markdown",
   "metadata": {},
   "source": [
    "对**定量数据**进行统计描述一般从\n",
    "```\n",
    "集中趋势\n",
    "离中趋势\n",
    "```\n",
    "进行分析"
   ]
  },
  {
   "cell_type": "markdown",
   "metadata": {},
   "source": [
    "**平均水平的指标**是对**个体集中趋势(集中趋势)**的度量，使用\n",
    "```\n",
    "均值\n",
    "中位数\n",
    "众数\n",
    "```\n",
    "反映**变异程度**的指标则是对**个体离开平均水平的度量(离中趋势)**，使用\n",
    "```\n",
    "标准差\n",
    "方差\n",
    "四分位间距\n",
    "```\n"
   ]
  },
  {
   "cell_type": "markdown",
   "metadata": {},
   "source": [
    "### 周期性分析"
   ]
  },
  {
   "cell_type": "markdown",
   "metadata": {},
   "source": [
    " ### 贡献度分析(28法则)"
   ]
  },
  {
   "cell_type": "markdown",
   "metadata": {},
   "source": [
    "### 相关性分析"
   ]
  },
  {
   "cell_type": "markdown",
   "metadata": {},
   "source": [
    "直接绘制散点图"
   ]
  },
  {
   "cell_type": "markdown",
   "metadata": {},
   "source": [
    "绘制散点图矩阵"
   ]
  },
  {
   "cell_type": "markdown",
   "metadata": {},
   "source": [
    "计算相关系数\n",
    "```\n",
    "Pearson相关系数\n",
    "-1<=r<=1 \n",
    "r>0正相关，r<0负相关\n",
    "|r| <= 0.3为不存在线性相关\n",
    "0.3<|r|<=0.5为低度线性相关\n",
    "0.5<|r|<=0.8为显著线性相关\n",
    "|r| >0.8高度线性相关\n",
    "```\n",
    "```\n",
    "Spearman秩相关系数\n",
    "```\n",
    "```\n",
    "判定系数，用R方，越接近1表示相关性越强\n",
    "```"
   ]
  },
  {
   "cell_type": "markdown",
   "metadata": {},
   "source": [
    "## Python主要数据探索函数"
   ]
  },
  {
   "cell_type": "markdown",
   "metadata": {},
   "source": [
    "```\n",
    "sum()\n",
    "mean()\n",
    "var()\n",
    "std()\n",
    "corr(数据,method='方法')数据样本的Spearman（Pearson）相关系数矩阵\n",
    "cov()数据样本的协方差矩阵\n",
    "skew()样本值的偏度\n",
    "kurt()样本值的峰度\n",
    "describe()给出样本的基本描述\n",
    "```\n"
   ]
  },
  {
   "cell_type": "code",
   "execution_count": null,
   "metadata": {},
   "outputs": [],
   "source": []
  }
 ],
 "metadata": {
  "kernelspec": {
   "display_name": "Python 3",
   "language": "python",
   "name": "python3"
  },
  "language_info": {
   "codemirror_mode": {
    "name": "ipython",
    "version": 3
   },
   "file_extension": ".py",
   "mimetype": "text/x-python",
   "name": "python",
   "nbconvert_exporter": "python",
   "pygments_lexer": "ipython3",
   "version": "3.6.5"
  }
 },
 "nbformat": 4,
 "nbformat_minor": 2
}
